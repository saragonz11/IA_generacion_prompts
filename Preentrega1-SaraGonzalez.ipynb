{
 "cells": [
  {
   "cell_type": "markdown",
   "id": "7f80d426-d77d-4aba-a9f7-40b37259f4f3",
   "metadata": {},
   "source": [
    "<h3>Preentrega1-SaraGonzalez</h3>\n",
    "\n",
    "<h4>Nombre y apellido: Sara González Londoño</h4>\n",
    "<h4>Curso: IA – Generación de prompts</h4>\n",
    "<h4>Comisión:  86185</h4>\n",
    "<h4>Proyecto: Idea Alquímica: Tejiendo el Futuro con Prompt Engineering</h4>\n",
    "\n",
    "<h5>Presentación del problema a abordar</h5>\n",
    "En la actualidad, muchos profesionales en formación dentro del área de desarrollo frontend enfrentan dificultades para aprender conceptos técnicos de programación y transformarlos en proyectos visuales. El exceso de documentación dispersa y la falta de ejemplos personalizados hacen que el proceso de aprendizaje sea lento y poco motivador. ",
    " ",
    "Esto es un problema relevante porque limita la autonomía de los estudiantes y frena su crecimiento en un sector donde la rapidez para adquirir nuevas habilidades es fundamental. Una solución que optimice la forma en que los estudiantes interactúan con la información y visualizan los resultados de sus aprendizajes puede acelerar la curva de aprendizaje.\n",
    "\n",
    "<h5>Desarrollo de la propuesta de solución</h5>\n",
    "La propuesta consiste en crear un asistente de aprendizaje interactivo basado en prompt engineering, que ayude a estudiantes y principiantes de frontend a:\n",
    "\n",
    "\n",
    "Texto-texto: Generar explicaciones claras y adaptadas al nivel del usuario sobre conceptos de HTML, CSS, JavaScript y frameworks como React.\n",
    "Ejemplo de prompt: ",
    "“Explica el concepto de flexbox en CSS con una analogía sencilla y luego muéstrame un ejemplo de código que centre un div en la pantalla.”\n",
    "\n",
    "Texto-imagen: Crear recursos visuales (diagramas, wireframes o esquemas) que complementen la explicación teórica.\n",
    "Ejemplo de prompt: ",
    "“Genera un diagrama visual minimalista que muestre cómo se estructura un layout con header, sidebar y contenido principal usando CSS Grid.”\n",
    "\n",
    "De esta forma, el proyecto combina el aprendizaje teórico con la representación visual, haciendo que la información sea más fácil de comprender y aplicar.\n",
    "\n",
    "<h5>Justificación de la viabilidad del proyecto</h5>\n",
    "\n",
    "\n",
    "-Puede implementarse utilizando modelos de texto como ChatGPT y de imagen como DALL·E o alternativas gratuitas (Nightcafe, Stable Diffusion).\n",
    "\n",
    "-El alcance está claramente definido: se enfoca en casos puntuales de aprendizaje frontend, sin necesidad de grandes volúmenes de datos ni infraestructura compleja.\n",
    "\n",
    "-Los prompts ya han sido probados de forma preliminar y generan resultados útiles tanto en explicación como en representación visual.\n",
    "\n",
    "-El tiempo estimado de desarrollo es realista: se puede estructurar en una semana, generando un set inicial de prompts y validando sus resultados.\n",
    "\n",
    "La elección de este proyecto se justifica porque conecta directamente con un caso real y personal (mi formación en desarrollo frontend), lo que garantiza que la problemática está bien comprendida y que los resultados serán aplicables a necesidades concretas."
   ]
  },
  {
   "cell_type": "code",
   "execution_count": null,
   "id": "41798238-3a72-4d65-9962-59e5286cc21c",
   "metadata": {},
   "outputs": [],
   "source": []
  },
  {
   "cell_type": "code",
   "execution_count": null,
   "id": "61c78b56-7056-4e3b-a5e7-90dc301e167f",
   "metadata": {},
   "outputs": [],
   "source": []
  }
 ],
 "metadata": {
  "kernelspec": {
   "display_name": "Python 3 (ipykernel)",
   "language": "python",
   "name": "python3"
  },
  "language_info": {
   "codemirror_mode": {
    "name": "ipython",
    "version": 3
   },
   "file_extension": ".py",
   "mimetype": "text/x-python",
   "name": "python",
   "nbconvert_exporter": "python",
   "pygments_lexer": "ipython3",
   "version": "3.13.5"
  }
 },
 "nbformat": 4,
 "nbformat_minor": 5
}
