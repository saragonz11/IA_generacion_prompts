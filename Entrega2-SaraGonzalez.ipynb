{
 "cells": [
  {
   "cell_type": "markdown",
   "id": "91b25c40",
   "metadata": {},
   "source": [
    "# Idea Alquímica: Tejiendo el Futuro con Prompt Engineering\n",
    "## Entrega 2 - Fast Prompting en Acción\n",
    "---"
   ]
  },
  {
   "cell_type": "markdown",
   "id": "a7b61e05",
   "metadata": {},
   "source": [
    "## Introducción\n",
    "Este proyecto busca aplicar técnicas de Fast Prompting para optimizar un asistente de aprendizaje interactivo orientado a estudiantes de desarrollo frontend. La propuesta se centra en demostrar cómo una ingeniería de prompts eficiente puede mejorar la comprensión de conceptos técnicos, reducir tiempos de aprendizaje y motivar a los estudiantes mediante ejemplos personalizados y visuales."
   ]
  },
  {
   "cell_type": "markdown",
   "id": "a7b3b81f",
   "metadata": {},
   "source": [
    "## Presentación del problema\n",
    "Muchos estudiantes y profesionales en formación dentro del área de desarrollo frontend enfrentan dificultades para:\n",
    "- Comprender conceptos técnicos de programación.\n",
    "- Transformar esos conceptos en proyectos visuales.\n",
    "- Navegar en un exceso de documentación dispersa, poco clara y sin adaptación a su nivel.\n",
    "\n",
    "Esto retrasa la autonomía de los estudiantes y frena su crecimiento en un sector donde la rapidez para adquirir nuevas habilidades es clave."
   ]
  },
  {
   "cell_type": "markdown",
   "id": "2bfd27f4",
   "metadata": {},
   "source": [
    "## Propuesta de solución\n",
    "La solución consiste en un asistente de aprendizaje interactivo basado en Prompt Engineering, que permita:\n",
    "\n",
    "- **Texto → Texto:** generar explicaciones claras y adaptadas al nivel del usuario sobre HTML, CSS, JavaScript y frameworks como React.\n",
    "- **Texto → Imagen:** crear representaciones visuales de conceptos (diagramas de arquitectura web, flujos de componentes en React, estructuras de código).\n",
    "\n",
    "Con la implementación de Fast Prompting, se busca mejorar la precisión, reducir la cantidad de consultas necesarias y aumentar la coherencia en las respuestas."
   ]
  },
  {
   "cell_type": "markdown",
   "id": "3f7e657b",
   "metadata": {},
   "source": [
    "## Objetivos\n",
    "- **General:** Implementar una POC que demuestre cómo Fast Prompting mejora la eficacia de un asistente de aprendizaje en programación frontend.\n",
    "\n",
    "- **Específicos:**\n",
    "  1. Diseñar distintos prompts aplicando técnicas de Fast Prompting.\n",
    "  2. Comparar resultados entre prompts simples y optimizados.\n",
    "  3. Reducir consultas innecesarias a la API mediante prompts claros y estructurados.\n",
    "  4. Documentar la metodología para que pueda replicarse."
   ]
  },
  {
   "cell_type": "markdown",
   "id": "211ebec9",
   "metadata": {},
   "source": [
    "## Metodología\n",
    "\n",
    "1. Revisar la propuesta inicial (Preentrega 1) como base del proyecto.  \n",
    "2. Diseñar prompts simples para el asistente de aprendizaje.  \n",
    "3. Optimizar los prompts aplicando técnicas de Fast Prompting como:  \n",
    "   - Definir un rol al modelo (por ejemplo, profesor experto).  \n",
    "   - Incluir ejemplos cortos de cómo debe responder (few-shot).  \n",
    "   - Pedir explicaciones paso a paso (chain of thought simplificado).  \n",
    "4. Comparar las respuestas entre un prompt simple y uno optimizado.  \n",
    "5. Documentar los resultados en la notebook.  \n"
   ]
  },
  {
   "cell_type": "markdown",
   "id": "9d602158",
   "metadata": {},
   "source": [
    "## Herramientas y tecnologías\n",
    "- **Lenguaje:** Python (Jupyter Notebook).\n",
    "- **Modelos de IA:** ChatGPT, OpenAI API (o alternativa gratuita).\n",
    "- **Generación de imágenes:** DALL-E, Nightcafe u otra herramienta gratuita.\n",
    "- **Técnicas de prompting utilizadas:** Prompting directo, Few-shot prompting, Rol assignment, Chain of thought simplificado."
   ]
  },
  {
   "cell_type": "markdown",
   "id": "d6aa1134",
   "metadata": {},
   "source": [
    "## Implementación\n",
    "\n",
    "En esta entrega se muestran respuestas simuladas de ChatGPT para fines demostrativos, \n",
    "lo que permite observar las diferencias entre un prompt simple y uno optimizado con Fast Prompting.  \n",
    "\n",
    "En una integración real, se podría conectar a la API de OpenAI para obtener respuestas en tiempo de ejecución.  \n"
   ]
  },
  {
   "cell_type": "code",
   "execution_count": 6,
   "id": "df096eb5",
   "metadata": {},
   "outputs": [
    {
     "name": "stdout",
     "output_type": "stream",
     "text": [
      "Respuesta Simple (ChatGPT):\n",
      " \n",
      "Flexbox es un sistema de diseño en CSS que permite organizar elementos \n",
      "en una sola dirección (fila o columna).\n",
      "\n",
      "\n",
      "Respuesta Optimizada (ChatGPT con Fast Prompting):\n",
      " \n",
      "Flexbox es un modelo de diseño en CSS que ayuda a alinear y distribuir \n",
      "elementos dentro de un contenedor. \n",
      "A diferencia de métodos más antiguos como 'float' o 'inline-block', \n",
      "flexbox se adapta automáticamente al espacio disponible.\n",
      "\n",
      "Ejemplo:\n",
      ".container {\n",
      "  display: flex;\n",
      "}\n",
      ".item {\n",
      "  flex: 1;\n",
      "}\n",
      "\n",
      "Esto reparte el espacio entre los elementos, \n",
      "ideal para crear diseños responsivos y fáciles de mantener.\n",
      "\n"
     ]
    }
   ],
   "source": [
    "# Ejemplo de uso de ChatGPT con Fast Prompting (respuestas simuladas)\n",
    "\n",
    "# Prompt simple (ChatGPT como modelo de IA)\n",
    "prompt_simple = \"Explica qué es flexbox en CSS\"\n",
    "respuesta_simple = \"\"\"\n",
    "Flexbox es un sistema de diseño en CSS que permite organizar elementos \n",
    "en una sola dirección (fila o columna).\n",
    "\"\"\"\n",
    "\n",
    "# Prompt optimizado con Fast Prompting (ChatGPT como profesor experto)\n",
    "prompt_opt = \"\"\"Eres un profesor experto en desarrollo frontend.\n",
    "Explica qué es flexbox en CSS a un estudiante principiante,\n",
    "con ejemplos claros y comparación con otros métodos de diseño.\"\"\"\n",
    "respuesta_opt = \"\"\"\n",
    "Flexbox es un modelo de diseño en CSS que ayuda a alinear y distribuir \n",
    "elementos dentro de un contenedor. \n",
    "A diferencia de métodos más antiguos como 'float' o 'inline-block', \n",
    "flexbox se adapta automáticamente al espacio disponible.\n",
    "\n",
    "Ejemplo:\n",
    ".container {\n",
    "  display: flex;\n",
    "}\n",
    ".item {\n",
    "  flex: 1;\n",
    "}\n",
    "\n",
    "Esto reparte el espacio entre los elementos, \n",
    "ideal para crear diseños responsivos y fáciles de mantener.\n",
    "\"\"\"\n",
    "\n",
    "print(\"Respuesta Simple (ChatGPT):\\n\", respuesta_simple)\n",
    "print(\"\\nRespuesta Optimizada (ChatGPT con Fast Prompting):\\n\", respuesta_opt)\n"
   ]
  },
  {
   "cell_type": "markdown",
   "id": "0ce4738a",
   "metadata": {},
   "source": [
    "##  Conclusiones esperadas\n",
    "- Los prompts optimizados con Fast Prompting ofrecen explicaciones más claras y completas.\n",
    "- Se reduce el número de consultas necesarias, mejorando la eficiencia.\n",
    "- El asistente de aprendizaje resulta más útil y atractivo para estudiantes de frontend.\n",
    "\n",
    "En conclusión, la aplicación de **Fast Prompting** permite que ChatGPT genere \n",
    "explicaciones más claras y adaptadas al nivel del estudiante, \n",
    "cumpliendo así el objetivo del asistente de aprendizaje en frontend.  \n"
   ]
  }
 ],
 "metadata": {
  "kernelspec": {
   "display_name": "Python 3 (ipykernel)",
   "language": "python",
   "name": "python3"
  },
  "language_info": {
   "codemirror_mode": {
    "name": "ipython",
    "version": 3
   },
   "file_extension": ".py",
   "mimetype": "text/x-python",
   "name": "python",
   "nbconvert_exporter": "python",
   "pygments_lexer": "ipython3",
   "version": "3.13.5"
  }
 },
 "nbformat": 4,
 "nbformat_minor": 5
}
